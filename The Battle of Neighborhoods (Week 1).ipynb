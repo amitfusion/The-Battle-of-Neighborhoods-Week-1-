{
    "cells": [
        {
            "cell_type": "markdown",
            "metadata": {
                "collapsed": true
            },
            "source": "# Introduction"
        },
        {
            "cell_type": "markdown",
            "metadata": {},
            "source": "### 1A. Requiements"
        },
        {
            "cell_type": "markdown",
            "metadata": {},
            "source": "#### A person currently residing in Downtown LA. he currently live within walking distance to Downtown \"The Santee Alley\" therefore he has access to good public transportation to work. Likewise, He enjoy many ammenities in the neighborhood , such as international cousine restaurants, cafes, food shops and entertainment. he has been offered a great opportunity to work in Brooklyn, NY. Although, He is very excited about it, he is a bit stress toward the process to secure a comparable place to live in Manhattan. Therefore, he decided to apply the learned skills during the Coursera course to explore ways to make sure my decision is factual and rewarding. "
        },
        {
            "cell_type": "markdown",
            "metadata": {},
            "source": "### 1B Things to consider"
        },
        {
            "cell_type": "markdown",
            "metadata": {},
            "source": "### He needs to ensure that some amenities are same as it was in LA like"
        },
        {
            "cell_type": "markdown",
            "metadata": {},
            "source": "#### 1.The aparment should we under 2000 USD per month"
        },
        {
            "cell_type": "markdown",
            "metadata": {},
            "source": "#### 2.The transport facility available esily a metro stop or a Bustand nearby"
        },
        {
            "cell_type": "markdown",
            "metadata": {},
            "source": "#### 3. The good cafe where he can Read and hang out similiar to back in The LA"
        },
        {
            "cell_type": "markdown",
            "metadata": {},
            "source": "### Data"
        },
        {
            "cell_type": "markdown",
            "metadata": {},
            "source": "#### I will use Foursqure API to Identify THe area around The Santee Alley to find our the kind of area he prefer to Suggest the area in Broklyn NY\nI belive This Project will help the people of LA who are trying to move to Brooklyn \n"
        },
        {
            "cell_type": "code",
            "execution_count": null,
            "metadata": {},
            "outputs": [],
            "source": ""
        }
    ],
    "metadata": {
        "kernelspec": {
            "display_name": "Python 3.6",
            "language": "python",
            "name": "python3"
        },
        "language_info": {
            "codemirror_mode": {
                "name": "ipython",
                "version": 3
            },
            "file_extension": ".py",
            "mimetype": "text/x-python",
            "name": "python",
            "nbconvert_exporter": "python",
            "pygments_lexer": "ipython3",
            "version": "3.6.9"
        }
    },
    "nbformat": 4,
    "nbformat_minor": 1
}