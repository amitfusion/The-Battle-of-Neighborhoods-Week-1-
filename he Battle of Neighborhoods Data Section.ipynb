{
    "cells": [
        {
            "cell_type": "markdown",
            "metadata": {
                "collapsed": true
            },
            "source": "## Data requirement"
        },
        {
            "cell_type": "markdown",
            "metadata": {},
            "source": "### In order to make a good choice of a similar apartment in Brooklyn NY, the following data is required: List/Information on neighborhoods form Brooklyn with their Geodata ( latitud and longitud. List/Information about the subway metro stations in Brooklyn with geodata. Listed apartments for rent in Brooklyn area with descriptions Venues and ammenities in the Brooklyn neighborhoods  sources and manipulation The list of Brooklyn neighborhoods is worked out during LAb exercise during the course. A csv file was created which will be read in order to create a dataframe and its mapping. The csv file 'br_neigh_data.csv' has the following below data structure. "
        },
        {
            "cell_type": "markdown",
            "metadata": {},
            "source": "### I will be scraping this https://en.wikipedia.org/wiki/List_of_New_York_City_Subway_stations_in_Brooklyn wikipedia page for the mentro station data "
        },
        {
            "cell_type": "markdown",
            "metadata": {},
            "source": "## Selection of Living place "
        },
        {
            "cell_type": "markdown",
            "metadata": {},
            "source": "#### I will be using "
        }
    ],
    "metadata": {
        "kernelspec": {
            "display_name": "Python 3.6",
            "language": "python",
            "name": "python3"
        },
        "language_info": {
            "codemirror_mode": {
                "name": "ipython",
                "version": 3
            },
            "file_extension": ".py",
            "mimetype": "text/x-python",
            "name": "python",
            "nbconvert_exporter": "python",
            "pygments_lexer": "ipython3",
            "version": "3.6.9"
        }
    },
    "nbformat": 4,
    "nbformat_minor": 1
}