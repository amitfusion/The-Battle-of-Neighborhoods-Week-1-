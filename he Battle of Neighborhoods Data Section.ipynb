{
    "cells": [
        {
            "cell_type": "markdown",
            "metadata": {
                "collapsed": true
            },
            "source": "## Data requirement"
        },
        {
            "cell_type": "markdown",
            "metadata": {},
            "source": "### In order to make a good choice of a similar apartment in Brooklyn NY, the following data is required: List/Information on neighborhoods form Brooklyn with their Geodata ( latitud and longitud. List/Information about the subway metro stations in Brooklyn with geodata. Listed apartments for rent in Brooklyn area with descriptions Venues and ammenities in the Brooklyn neighborhoods  sources and manipulation The list of Brooklyn neighborhoods is worked out during LAb exercise during the course. A csv file was created which will be read in order to create a dataframe and its mapping. The csv file 'br_neigh_data.csv' has the following below data structure. "
        },
        {
            "cell_type": "markdown",
            "metadata": {},
            "source": "### I will be scraping this https://en.wikipedia.org/wiki/List_of_New_York_City_Subway_stations_in_Brooklyn wikipedia page for the mentro station data "
        },
        {
            "cell_type": "markdown",
            "metadata": {},
            "source": "## Selection of Living place "
        },
        {
            "cell_type": "markdown",
            "metadata": {},
            "source": "### I will be scraping this https://en.wikipedia.org/wiki/List_of_New_York_City_Subway_stations_in_Brooklyn Wikipedia page for the metro station data the data saved in 'br_neigh_data.csv"
        },
        {
            "cell_type": "markdown",
            "metadata": {},
            "source": "## Selection of Living place"
        },
        {
            "cell_type": "markdown",
            "metadata": {},
            "source": "### I will be using https://www.realtor.com/apartments/Brooklyn_NY/price-800-2000 for looking the suitable apartment according to rent I have complied all the data in one CSV file i used csv converter to convert data from web to CSV\u00a0"
        },
        {
            "cell_type": "markdown",
            "metadata": {},
            "source": "### The data will be used as follows"
        },
        {
            "cell_type": "markdown",
            "metadata": {},
            "source": "### \u00a0Use Foursquare data to map top 10 venues for all Brooklyn neighborhoods and clustered in groups ( as per Course LAB) Use foursquare data to map the location of subway metro stations, separately and on top of the above-clustered map in order to be able to identify the venues and amenities near each metro station, or explore each subway location separately Use Foursquare data to map the location of rental places, in some form, linked to the subway locations. create a map that depicts, for instance, the average rental price per square ft, around a radius of 1.0 mile (1.6 km) around each subway station - or similar metrics. I will be able to quickly point to the popups to know the relative price per subway area.\u00a0"
        },
        {
            "cell_type": "markdown",
            "metadata": {},
            "source": "## The analysis and the strategy"
        },
        {
            "cell_type": "markdown",
            "metadata": {},
            "source": "### The strategy is based on mapping the above-described data in section, in order to facilitate the choice of at least two candidate places for rent. The choice is made based on the demands imposed: location near a subway, rental price, and similar venues to DownTown LA. This visual approach and maps with popups labels allow quick identification of location, price, and feature, thus making the selection very easy."
        },
        {
            "cell_type": "code",
            "execution_count": null,
            "metadata": {},
            "outputs": [],
            "source": ""
        }
    ],
    "metadata": {
        "kernelspec": {
            "display_name": "Python 3.6",
            "language": "python",
            "name": "python3"
        },
        "language_info": {
            "codemirror_mode": {
                "name": "ipython",
                "version": 3
            },
            "file_extension": ".py",
            "mimetype": "text/x-python",
            "name": "python",
            "nbconvert_exporter": "python",
            "pygments_lexer": "ipython3",
            "version": "3.6.9"
        }
    },
    "nbformat": 4,
    "nbformat_minor": 1
}